{
 "cells": [
  {
   "cell_type": "code",
   "execution_count": 1,
   "id": "b96fd74a",
   "metadata": {},
   "outputs": [],
   "source": [
    "import ee\n",
    "ee.Authenticate()\n",
    "ee.Initialize(project=\"ee-peisz2001\")"
   ]
  },
  {
   "cell_type": "code",
   "execution_count": 2,
   "id": "3d55e5eb",
   "metadata": {},
   "outputs": [],
   "source": [
    "roi   = ee.Geometry.Rectangle([-75, 40, -72, 41])\n",
    "start = ee.Date('2024-01-01')\n",
    "end   = ee.Date('2024-07-01')"
   ]
  },
  {
   "cell_type": "code",
   "execution_count": 3,
   "id": "7c651435",
   "metadata": {},
   "outputs": [],
   "source": [
    "bands = [\n",
    "    'temperature_2m',\n",
    "    'lake_mix_layer_temperature',\n",
    "    'lake_shape_factor',\n",
    "    'snowfall',\n",
    "    'snowmelt',\n",
    "    'runoff',\n",
    "    'surface_runoff',\n",
    "    'sub_surface_runoff',\n",
    "    'evaporation_from_bare_soil',\n",
    "    'evaporation_from_open_water_surfaces_excluding_oceans',\n",
    "    'evaporation_from_the_top_of_canopy',\n",
    "    'evaporation_from_vegetation_transpiration',\n",
    "    'skin_reservoir_content',\n",
    "    'u_component_of_wind_10m',\n",
    "    'v_component_of_wind_10m',\n",
    "    'surface_pressure',\n",
    "    'total_precipitation',\n",
    "    'leaf_area_index_high_vegetation',\n",
    "    'leaf_area_index_low_vegetation'\n",
    "]\n",
    "\n"
   ]
  },
  {
   "cell_type": "code",
   "execution_count": null,
   "id": "ec3e62c3",
   "metadata": {},
   "outputs": [
    {
     "name": "stdout",
     "output_type": "stream",
     "text": [
      "All tasks started.\n"
     ]
    }
   ],
   "source": [
    "# https://developers.google.com/earth-engine/datasets/catalog/ECMWF_ERA5_LAND_HOURLY\n",
    "\n",
    "collection = (\n",
    "    ee.ImageCollection('ECMWF/ERA5_LAND/HOURLY')\n",
    "      .filterDate(start, end)\n",
    "      .filterBounds(roi)\n",
    "      .select(bands)\n",
    "      .map(lambda img: img.clip(roi).toFloat())\n",
    ")\n",
    "\n",
    "count = collection.size().getInfo()\n",
    "server_list = collection.toList(count)\n",
    "\n",
    "for i in range(count):\n",
    "    img = ee.Image(server_list.get(i))\n",
    "    ts  = img.date().format('YYYYMMdd_HH').getInfo()\n",
    "    desc = f'ERA5_temp_{ts}'\n",
    "\n",
    "    task = ee.batch.Export.image.toDrive(\n",
    "        image=img,\n",
    "        description=desc,\n",
    "        folder='GEE_ERA5/1',\n",
    "        fileNamePrefix=desc,\n",
    "        region=roi.getInfo()['coordinates'],\n",
    "        scale=1000,\n",
    "        maxPixels=1e13\n",
    "    )\n",
    "    task.start()\n",
    "print('All tasks started.')"
   ]
  },
  {
   "cell_type": "code",
   "execution_count": null,
   "id": "56a681e9",
   "metadata": {},
   "outputs": [],
   "source": []
  }
 ],
 "metadata": {
  "kernelspec": {
   "display_name": "dl",
   "language": "python",
   "name": "python3"
  },
  "language_info": {
   "codemirror_mode": {
    "name": "ipython",
    "version": 3
   },
   "file_extension": ".py",
   "mimetype": "text/x-python",
   "name": "python",
   "nbconvert_exporter": "python",
   "pygments_lexer": "ipython3",
   "version": "3.10.16"
  }
 },
 "nbformat": 4,
 "nbformat_minor": 5
}
